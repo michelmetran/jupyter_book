{
 "cells": [
  {
   "cell_type": "markdown",
   "id": "7c6a7345",
   "metadata": {},
   "source": [
    "<br>\n",
    "\n",
    "# Introdução\n",
    "\n",
    "- https://executablebooks.org/en/latest/\n",
    "- https://jupyterbook.org/"
   ]
  },
  {
   "cell_type": "code",
   "execution_count": null,
   "id": "3198b3b8",
   "metadata": {},
   "outputs": [],
   "source": [
    "#!pip3 install jupyter-book --upgrade"
   ]
  },
  {
   "cell_type": "code",
   "execution_count": null,
   "id": "a5475e29-78a7-432b-a9c9-184976ef1615",
   "metadata": {},
   "outputs": [],
   "source": [
    "import os\n",
    "import shutil"
   ]
  },
  {
   "cell_type": "code",
   "execution_count": null,
   "id": "d55b6b91-37e9-4b3b-9a3c-16d47d5fd009",
   "metadata": {},
   "outputs": [],
   "source": [
    "os.getcwd()"
   ]
  },
  {
   "cell_type": "code",
   "execution_count": null,
   "id": "4e7920d4-1cef-46e4-81bf-658d8e1da19a",
   "metadata": {},
   "outputs": [],
   "source": [
    "shutil.rmtree(\n",
    "    path=os.path.join('..', 'my_test_book'),\n",
    "    ignore_errors=True,\n",
    "    onerror=print('Deu ruin!'),\n",
    ")"
   ]
  },
  {
   "cell_type": "code",
   "execution_count": null,
   "id": "f0cb68a5",
   "metadata": {},
   "outputs": [],
   "source": [
    "# Create schema\n",
    "!jupyter-book create ../my_test_book/"
   ]
  },
  {
   "cell_type": "code",
   "execution_count": null,
   "id": "252a0eb3",
   "metadata": {},
   "outputs": [],
   "source": [
    "# Build\n",
    "!jupyter-book build ../my_test_book/"
   ]
  },
  {
   "cell_type": "code",
   "execution_count": null,
   "id": "8988d0a1",
   "metadata": {},
   "outputs": [],
   "source": [
    "a = 'file:///home/michel/Codes/case_office/jupyter_book/docs/my_test_book/_build/html/index.html'\n",
    "a"
   ]
  },
  {
   "cell_type": "markdown",
   "id": "0a93840c-58b1-435e-ac2d-575fb9638d7c",
   "metadata": {},
   "source": [
    "<br>\n",
    "\n",
    "# Publicação"
   ]
  },
  {
   "cell_type": "markdown",
   "id": "44087f70-a6ac-4b25-9e0b-c953898a45f5",
   "metadata": {},
   "source": [
    "<br>\n",
    "\n",
    "## Alternativa 1\n",
    "\n",
    "Publicar em uma nova *branch*.\n",
    "\n",
    "Por meio do *package* **ghp-import** é possível deixar o livro na *branch* **gh-pages**."
   ]
  },
  {
   "cell_type": "code",
   "execution_count": null,
   "id": "07467467-a58b-4ac8-b063-0e5d78470b9f",
   "metadata": {},
   "outputs": [],
   "source": [
    "#!pip3 install ghp-import --upgrade"
   ]
  },
  {
   "cell_type": "code",
   "execution_count": null,
   "id": "8149e6c5-f956-4a60-85e8-a02db2a2e940",
   "metadata": {},
   "outputs": [],
   "source": [
    "from ghp_import import ghp_import"
   ]
  },
  {
   "cell_type": "markdown",
   "id": "4a93a20d-0676-4f2f-9945-22c99849e4aa",
   "metadata": {},
   "source": [
    "<br>\n",
    "\n",
    "Sendo possível fazer isso por meio do terminal."
   ]
  },
  {
   "cell_type": "code",
   "execution_count": null,
   "id": "bf3ee2e5-85e9-4000-b534-4233e4a5a4d1",
   "metadata": {},
   "outputs": [],
   "source": [
    "#!ghp-import -n -p -f ../docs/_build/html"
   ]
  },
  {
   "cell_type": "markdown",
   "id": "0d91ec2a-748b-4482-b096-95c890f18384",
   "metadata": {},
   "source": [
    "<br>\n",
    "\n",
    "Ou por meio do python."
   ]
  },
  {
   "cell_type": "code",
   "execution_count": null,
   "id": "d3e8c4e0-e492-4c59-a050-ae758d4c6a1d",
   "metadata": {},
   "outputs": [],
   "source": [
    "ghp_import(\n",
    "    #srcdir='docs',\n",
    "    #srcdir='../docs/my_test_book/_build/html',\n",
    "    srcdir='../docs/my_test_book/_build/html',\n",
    "    push=True,\n",
    "    #cname='example.com'\n",
    ")"
   ]
  },
  {
   "cell_type": "markdown",
   "id": "07d50615-a9b5-4b84-be50-76ed70041806",
   "metadata": {},
   "source": [
    "<br>\n",
    "\n",
    "## Alternativa 2: docs"
   ]
  },
  {
   "cell_type": "code",
   "execution_count": null,
   "id": "acd5ba91-60dc-4f3b-aad5-934d93ab1d36",
   "metadata": {},
   "outputs": [],
   "source": [
    "# Cria diretório\n",
    "docs_path = os.path.join('..', 'docs')"
   ]
  },
  {
   "cell_type": "code",
   "execution_count": null,
   "id": "9a4a6c73-94a9-4791-ad08-7368e8be09e8",
   "metadata": {},
   "outputs": [],
   "source": [
    "src = os.path.join('..', 'my_test_book', '_build', 'html')\n",
    "shutil.copytree(src, docs_path) "
   ]
  },
  {
   "cell_type": "code",
   "execution_count": null,
   "id": "151dfbdc-98b4-45fc-acdb-2b33916a0054",
   "metadata": {},
   "outputs": [],
   "source": [
    "# Create file .nojerkyll\n",
    "open(os.path.join(docs_path, '.nojekyll'), mode='w').close()"
   ]
  },
  {
   "cell_type": "code",
   "execution_count": null,
   "id": "79d7d3c2-27e9-4b76-b095-f8efc52cc108",
   "metadata": {},
   "outputs": [],
   "source": []
  }
 ],
 "metadata": {
  "kernelspec": {
   "display_name": "Python [conda env:pablocarreira-py39] *",
   "language": "python",
   "name": "conda-env-pablocarreira-py39-py"
  },
  "language_info": {
   "codemirror_mode": {
    "name": "ipython",
    "version": 3
   },
   "file_extension": ".py",
   "mimetype": "text/x-python",
   "name": "python",
   "nbconvert_exporter": "python",
   "pygments_lexer": "ipython3",
   "version": "3.9.10"
  }
 },
 "nbformat": 4,
 "nbformat_minor": 5
}
