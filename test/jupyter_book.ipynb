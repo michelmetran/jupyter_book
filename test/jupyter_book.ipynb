{
 "cells": [
  {
   "cell_type": "markdown",
   "id": "7c6a7345",
   "metadata": {},
   "source": [
    "<br>\n",
    "\n",
    "# Introdução\n",
    "\n",
    "- https://executablebooks.org/en/latest/\n",
    "- https://jupyterbook.org/"
   ]
  },
  {
   "cell_type": "code",
   "execution_count": null,
   "id": "3198b3b8",
   "metadata": {},
   "outputs": [],
   "source": [
    "#!pip3 install jupyter-book --upgrade"
   ]
  },
  {
   "cell_type": "code",
   "execution_count": null,
   "id": "a5475e29-78a7-432b-a9c9-184976ef1615",
   "metadata": {},
   "outputs": [],
   "source": [
    "import os"
   ]
  },
  {
   "cell_type": "code",
   "execution_count": null,
   "id": "d55b6b91-37e9-4b3b-9a3c-16d47d5fd009",
   "metadata": {},
   "outputs": [],
   "source": [
    "os.getcwd()"
   ]
  },
  {
   "cell_type": "code",
   "execution_count": null,
   "id": "f0cb68a5",
   "metadata": {},
   "outputs": [],
   "source": [
    "# Create schema\n",
    "!jupyter-book create ../docs/my_test_book/"
   ]
  },
  {
   "cell_type": "code",
   "execution_count": null,
   "id": "252a0eb3",
   "metadata": {},
   "outputs": [],
   "source": [
    "# Build\n",
    "!jupyter-book build ../docs/my_test_book/"
   ]
  },
  {
   "cell_type": "code",
   "execution_count": null,
   "id": "8988d0a1",
   "metadata": {},
   "outputs": [],
   "source": [
    "a = 'file:///home/michel/Codes/case_office/jupyter_book/docs/my_test_book/_build/html/index.html'\n",
    "a"
   ]
  },
  {
   "cell_type": "code",
   "execution_count": null,
   "id": "44ccb97c",
   "metadata": {},
   "outputs": [],
   "source": []
  }
 ],
 "metadata": {
  "kernelspec": {
   "display_name": "Python [conda env:pablocarreira-py39] *",
   "language": "python",
   "name": "conda-env-pablocarreira-py39-py"
  },
  "language_info": {
   "codemirror_mode": {
    "name": "ipython",
    "version": 3
   },
   "file_extension": ".py",
   "mimetype": "text/x-python",
   "name": "python",
   "nbconvert_exporter": "python",
   "pygments_lexer": "ipython3",
   "version": "3.9.10"
  }
 },
 "nbformat": 4,
 "nbformat_minor": 5
}
